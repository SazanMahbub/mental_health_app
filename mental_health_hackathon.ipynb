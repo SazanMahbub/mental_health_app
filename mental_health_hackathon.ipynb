{
 "cells": [
  {
   "cell_type": "code",
   "execution_count": 55,
   "metadata": {},
   "outputs": [],
   "source": [
    "from textblob import TextBlob as tb\n",
    "from textblob.sentiments import NaiveBayesAnalyzer\n",
    "from textblob.np_extractors import ConllExtractor as cex"
   ]
  },
  {
   "cell_type": "code",
   "execution_count": 56,
   "metadata": {},
   "outputs": [],
   "source": [
    "def sentiment(blob, analyzer='nba'):\n",
    "    if analyzer ==  'nba':\n",
    "        sentiment = tb(blob, analyzer=NaiveBayesAnalyzer()).sentiment\n",
    "        #print(sentiment)\n",
    "        return sentiment\n",
    "    elif analyzer == 'pa':\n",
    "        sentiment = tb(blob).sentiment\n",
    "        #print(sentiment)\n",
    "        return sentiment"
   ]
  },
  {
   "cell_type": "code",
   "execution_count": 106,
   "metadata": {},
   "outputs": [
    {
     "data": {
      "text/plain": [
       "Sentiment(polarity=-0.35, subjectivity=0.6000000000000001)"
      ]
     },
     "execution_count": 106,
     "metadata": {},
     "output_type": "execute_result"
    }
   ],
   "source": [
    "blob = 'not good'\n",
    "sentiment(blob, 'pa')"
   ]
  },
  {
   "cell_type": "code",
   "execution_count": 69,
   "metadata": {
    "collapsed": true
   },
   "outputs": [],
   "source": [
    "feature_dictionary = {\n",
    "    #'death in family':'',\n",
    "    'family':'',\n",
    "    'relation':'blablabla',\n",
    "    'academic':'porashuna koro nai.. pass korba kemne?',\n",
    "    #'parents divorce':'',\n",
    "    'unsocial':'f%$# society!',\n",
    "    'bullying':'f%$# em aull!',\n",
    "    'neighbourhood':'f%$# em too!',\n",
    "    'financial':'',\n",
    "    'introvert':'',\n",
    "}\n"
   ]
  },
  {
   "cell_type": "code",
   "execution_count": 70,
   "metadata": {},
   "outputs": [
    {
     "data": {
      "text/plain": [
       "'porashuna koro nai.. pass korba kemne?'"
      ]
     },
     "execution_count": 70,
     "metadata": {},
     "output_type": "execute_result"
    }
   ],
   "source": [
    "feature_dictionary['academic issues']"
   ]
  },
  {
   "cell_type": "code",
   "execution_count": 78,
   "metadata": {
    "collapsed": true
   },
   "outputs": [],
   "source": [
    "feature_list=[\n",
    "    #'current sentiment',\n",
    "    'gender', #make two different vector spaces depending on the gender\n",
    "    'age',\n",
    "    'study level', #integer number from 1+2+4+2+6\n",
    "    'family relation', #on a scale of 0 to 10\n",
    "    'friends relation', #on a scale of 0 to 10 \n",
    "        #'avg time spent with friends', \n",
    "        #'avg time spent with family',\n",
    "    'academic issues that are bothering', #on a scale of 0 to 10\n",
    "    'avg time spent on social media', \n",
    "        #float number collected from user activity data of mobile phone\n",
    "    'avg time spent on gaming',\n",
    "        #float number collected from user activity data of mobile phone\n",
    "    'social interaction<extrovert/introvert>',  #on a scale of 0 to 10\n",
    "    'neighbourhood', #on a scale of 0 to 10\n",
    "    'financial problem',   #on a scale of 0 to 10\n",
    "]"
   ]
  },
  {
   "cell_type": "code",
   "execution_count": 79,
   "metadata": {},
   "outputs": [
    {
     "data": {
      "text/plain": [
       "['gender',\n",
       " 'age',\n",
       " 'study level',\n",
       " 'family relation',\n",
       " 'friends relation',\n",
       " 'academic issues that are bothering',\n",
       " 'avg time spent on social media',\n",
       " 'avg time spent on gaming',\n",
       " 'social interaction<extrovert/introvert>',\n",
       " 'neighbourhood',\n",
       " 'financial problem']"
      ]
     },
     "execution_count": 79,
     "metadata": {},
     "output_type": "execute_result"
    }
   ],
   "source": [
    " feature_list"
   ]
  },
  {
   "cell_type": "code",
   "execution_count": 134,
   "metadata": {
    "collapsed": true
   },
   "outputs": [],
   "source": [
    "def store_user_sentiment(user, key , blob):\n",
    "    s = sentiment(blob,'pa').polarity\n",
    "    user.dict[key] = s\n",
    "    suggest_user(user, key, s)"
   ]
  },
  {
   "cell_type": "code",
   "execution_count": 135,
   "metadata": {},
   "outputs": [],
   "source": [
    "class user:\n",
    "    activity_dict = {}\n",
    "    sentiment_dict = {}\n",
    "    gender = None\n",
    "    study_level = None\n",
    "    age = None\n",
    "    current_suggestion = None\n",
    "    current_sentiment = 0\n",
    "    #avg_duration_on_social_media = []\n",
    "    duration_on_social_media = []\n",
    "    day = 0\n",
    "    \n",
    "    def __init__(self):\n",
    "        pass\n",
    "    \n",
    "    def set_gender(self, gender):\n",
    "        self.gender = gender\n",
    "    \n",
    "    def set_age(self, age):\n",
    "        self.age = age\n",
    "    \n",
    "    def set_study_level(self, study_level):\n",
    "        self.study_level = study_level\n",
    "    \n",
    "    def set_current_suggestion(self, sugg): \n",
    "        self.current_suggestion = sugg \n",
    "    \n",
    "    \n",
    "    def initial_profiling(self): \n",
    "        pass\n",
    "    \n",
    "    \n",
    "    def get_duration_on_social_media(self, t):\n",
    "        #collect time t\n",
    "        #calculation running average\n",
    "        duration_on_social_media[day] = t\n",
    "        #avg_duration_on_social_media[day+1] \n",
    "        #    = .1*avg_duration_on_social_media[day]+.9*t\n",
    "        \n",
    "    \n",
    "    def get_duration_on_activities(self, activity, t): \n",
    "        \n",
    "        #protita user er jonno amra ekta kore dictionary of activities rakhbo\n",
    "        #dictionary [\"activity\"-->\"list of durations\"] map kora thakbe.\n",
    "        \n",
    "        ## alarm set kora thakbe. \n",
    "        #collect time t\n",
    "        #calculation running average\n",
    "        #duration_on_social_media \n",
    "        #    = .1*duration_on_social_media+.9*t\n",
    "        if activity in activity_dict:\n",
    "            self.activity_dict[activity].append(t)\n",
    "        else\n",
    "            self.activity_dict[activity] = []\n",
    "            self.activity_dict[activity].append(t)\n",
    "    \n",
    "    \n",
    "    def set_current_sentiment(self, current_sentiment): #on a scale of 1 to 10\n",
    "        self.current_sentiment = current_sentiment\n",
    "        #checkin korar shathe shathe eta call kore mood ta jene\n",
    "        #nibe. shei onujayi kotha shuru korbe.\n",
    "        \n",
    "    def store_user_sentiment(self, key , blob): \n",
    "        #dictionary \"keyword\"-->\"list of durations\" map kora thakbe.\n",
    "        #two ways to select korbo. \n",
    "        s = sentiment(blob,'pa').polarity \n",
    "        #self.dict[key].not_found(s)  \n",
    "        suggest_user(user, key, s) \n",
    "        \n",
    "        if activity in sentiment_dict:\n",
    "            self.activity_dict[key].append(s)\n",
    "        else\n",
    "            self.activity_dict[key] = []\n",
    "            self.activity_dict[key].append(s)\n",
    "        \n",
    "    def weekend_functionality(self):\n",
    "        pass\n",
    "    \n",
    "    \n",
    "    "
   ]
  },
  {
   "cell_type": "code",
   "execution_count": 136,
   "metadata": {
    "collapsed": true
   },
   "outputs": [],
   "source": [
    "def suggest_user(user, key, s):\n",
    "    print('In suggestion method')"
   ]
  },
  {
   "cell_type": "code",
   "execution_count": 137,
   "metadata": {},
   "outputs": [],
   "source": [
    "u = user()\n",
    "u.set_gender('male')\n",
    "u.set_study_level(13)\n",
    "u.set_age(13)"
   ]
  },
  {
   "cell_type": "code",
   "execution_count": 171,
   "metadata": {},
   "outputs": [
    {
     "name": "stdout",
     "output_type": "stream",
     "text": [
      "In suggestion method\n"
     ]
    }
   ],
   "source": [
    "store_user_sentiment(u, 'family', 'mostly marvelous') "
   ]
  },
  {
   "cell_type": "code",
   "execution_count": 172,
   "metadata": {},
   "outputs": [
    {
     "data": {
      "text/plain": [
       "1.0"
      ]
     },
     "execution_count": 172,
     "metadata": {},
     "output_type": "execute_result"
    }
   ],
   "source": [
    "u.dict['family'].polarity"
   ]
  },
  {
   "cell_type": "code",
   "execution_count": null,
   "metadata": {
    "collapsed": true
   },
   "outputs": [],
   "source": []
  },
  {
   "cell_type": "code",
   "execution_count": null,
   "metadata": {
    "collapsed": true
   },
   "outputs": [],
   "source": []
  }
 ],
 "metadata": {
  "kernelspec": {
   "display_name": "Python 3",
   "language": "python",
   "name": "python3"
  },
  "language_info": {
   "codemirror_mode": {
    "name": "ipython",
    "version": 3
   },
   "file_extension": ".py",
   "mimetype": "text/x-python",
   "name": "python",
   "nbconvert_exporter": "python",
   "pygments_lexer": "ipython3",
   "version": "3.6.3"
  }
 },
 "nbformat": 4,
 "nbformat_minor": 2
}
